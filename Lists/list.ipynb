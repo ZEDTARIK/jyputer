{
 "cells": [
  {
   "cell_type": "code",
   "execution_count": 19,
   "metadata": {},
   "outputs": [
    {
     "name": "stdout",
     "output_type": "stream",
     "text": [
      "[1, 2, 3, 4, 5, 6, 7, 8, 9, 10]\n",
      "10\n",
      "11\n",
      "[1, 2, 3, 4, 5, 6, 7, 8, 9, 10, 11]\n",
      "[1, 2, 3, 'Zouhair', 4, 5, 6, 7, 8, 9, 10, 11]\n",
      "[1, 2, 3, 'Zouhair', 4, 5, 6, 7, 8, 9]\n",
      "[1, 2, 3, 4, 5, 6, 7, 8, 9]\n",
      "[9, 8, 7, 6, 5, 4, 3, 2, 1]\n",
      "[1, 2, 3, 4, 5, 6, 7, 8, 9]\n",
      "[1, 4, 9, 16, 25, 36, 49, 64, 81]\n",
      "[2, 3, 4, 5]\n",
      "[1, 2, 3, 4, 5]\n",
      "[6, 7, 8, 9]\n",
      "[5, 6, 7, 8, 9]\n"
     ]
    }
   ],
   "source": [
    "my_lists = [1, 2, 3, 4, 5, 6, 7, 8, 9, 10]\n",
    "\n",
    "print(my_lists)\n",
    "\n",
    "# print len \n",
    "print(len(my_lists))\n",
    "\n",
    "# append new value to my_list \n",
    "\n",
    "my_lists.append(11)\n",
    "\n",
    "# print updated length\n",
    "\n",
    "print(len(my_lists))\n",
    "\n",
    "# print the list\n",
    "\n",
    "print(my_lists)\n",
    "\n",
    "# insert new value at index 3\n",
    "my_lists.insert(3, \"Zouhair\")\n",
    "print(my_lists)\n",
    "\n",
    "# remove value at index 3\n",
    "\n",
    "my_lists.pop()\n",
    "my_lists.pop(-1)\n",
    "print(my_lists)\n",
    "\n",
    "# using rremove\n",
    "\n",
    "my_lists.remove(\"Zouhair\")\n",
    "print(my_lists)\n",
    "\n",
    "my_lists.reverse()\n",
    "print(my_lists)\n",
    "\n",
    "my_lists.sort()\n",
    "print(my_lists)\n",
    "\n",
    "\n",
    "# List comprehension\n",
    "\n",
    "squares = [i**2 for i in my_lists]\n",
    "print(squares)\n",
    "\n",
    "# List slicing\n",
    "\n",
    "print(my_lists[1:5])\n",
    "print(my_lists[:5])\n",
    "print(my_lists[5:])\n",
    "print(my_lists[-5:])"
   ]
  }
 ],
 "metadata": {
  "kernelspec": {
   "display_name": "Python 3",
   "language": "python",
   "name": "python3"
  },
  "language_info": {
   "codemirror_mode": {
    "name": "ipython",
    "version": 3
   },
   "file_extension": ".py",
   "mimetype": "text/x-python",
   "name": "python",
   "nbconvert_exporter": "python",
   "pygments_lexer": "ipython3",
   "version": "3.12.0"
  }
 },
 "nbformat": 4,
 "nbformat_minor": 2
}
