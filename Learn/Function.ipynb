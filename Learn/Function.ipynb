{
 "cells": [
  {
   "cell_type": "code",
   "execution_count": 23,
   "metadata": {},
   "outputs": [
    {
     "data": {
      "text/plain": [
       "20"
      ]
     },
     "execution_count": 23,
     "metadata": {},
     "output_type": "execute_result"
    }
   ],
   "source": [
    "def my_function():\n",
    "    \"\"\"\n",
    "    This function returns a constant value 20.\n",
    "\n",
    "    Parameters:\n",
    "    No parameters are required.\n",
    "\n",
    "    Returns:\n",
    "    The function returns an integer value 20.\n",
    "\n",
    "    Example:\n",
    "    my_function()\n",
    "    \"\"\"\n",
    "    return 20\n",
    "\n",
    "my_function()"
   ]
  },
  {
   "cell_type": "code",
   "execution_count": 24,
   "metadata": {},
   "outputs": [
    {
     "data": {
      "text/plain": [
       "30"
      ]
     },
     "execution_count": 24,
     "metadata": {},
     "output_type": "execute_result"
    }
   ],
   "source": [
    "def my_function_params(a, b):\n",
    "    \"\"\"\n",
    "    This function takes two parameters a and b, and returns their sum.\n",
    "\n",
    "    Parameters:\n",
    "    a (int or float): The first number to be added.\n",
    "    b (int or float): The second number to be added.\n",
    "\n",
    "    Returns:\n",
    "    The function returns the sum of the two input numbers.\n",
    "\n",
    "    Example:\n",
    "    my_function_params(10, 20)\n",
    "    \"\"\"\n",
    "    return a + b;\n",
    "\n",
    "my_function_params(10, 20)"
   ]
  },
  {
   "cell_type": "markdown",
   "metadata": {},
   "source": [
    "# L'opérateur splat\n",
    "## L'opérateur splat : * est très souvent utilisé en python."
   ]
  },
  {
   "cell_type": "code",
   "execution_count": 22,
   "metadata": {},
   "outputs": [
    {
     "data": {
      "text/plain": [
       "60"
      ]
     },
     "execution_count": 22,
     "metadata": {},
     "output_type": "execute_result"
    }
   ],
   "source": [
    "def myfuncton_etoile(*args):\n",
    "    return args[0] + args[1] + args[2]\n",
    "\n",
    "myfuncton_etoile(10,20,30)\n",
    "myfuncton_etoile(10, 20, 30, 40, 85)"
   ]
  },
  {
   "cell_type": "code",
   "execution_count": 34,
   "metadata": {},
   "outputs": [
    {
     "data": {
      "text/plain": [
       "6"
      ]
     },
     "execution_count": 34,
     "metadata": {},
     "output_type": "execute_result"
    }
   ],
   "source": [
    "def myfuncton_etoile(*args):\n",
    "    return sum(args)\n",
    "    #return args[0] + args[1] + args[2]\n",
    "    \n",
    "data = [1, 2, 3]\n",
    "myfuncton_etoile(*data) # L'utilisation de l'étoile permet de passer par une liste\n"
   ]
  },
  {
   "cell_type": "code",
   "execution_count": 43,
   "metadata": {},
   "outputs": [
    {
     "name": "stdout",
     "output_type": "stream",
     "text": [
      "firstName lastName\n",
      "olivier Zouhair\n"
     ]
    }
   ],
   "source": [
    "def splat_dictionary(firstName = \"\", lastName= \"\"):\n",
    "    return \"{} {}\".format(firstName, lastName)\n",
    "\n",
    "data = data = {'firstName':'olivier', 'lastName': 'Zouhair' }\n",
    "\n",
    "print(splat_dictionary(*data)) # get keys\n",
    "\n",
    "print(splat_dictionary(**data)) # get values\n"
   ]
  }
 ],
 "metadata": {
  "kernelspec": {
   "display_name": "Python 3",
   "language": "python",
   "name": "python3"
  },
  "language_info": {
   "codemirror_mode": {
    "name": "ipython",
    "version": 3
   },
   "file_extension": ".py",
   "mimetype": "text/x-python",
   "name": "python",
   "nbconvert_exporter": "python",
   "pygments_lexer": "ipython3",
   "version": "3.12.0"
  }
 },
 "nbformat": 4,
 "nbformat_minor": 2
}
