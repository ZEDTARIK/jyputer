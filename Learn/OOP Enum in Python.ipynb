{
 "cells": [
  {
   "cell_type": "markdown",
   "metadata": {},
   "source": [
    "# Enum in Python"
   ]
  },
  {
   "cell_type": "code",
   "execution_count": 6,
   "metadata": {},
   "outputs": [
    {
     "name": "stdout",
     "output_type": "stream",
     "text": [
      "Birds.Crow\n",
      "Crow\n",
      "1\n"
     ]
    }
   ],
   "source": [
    "from enum import Enum\n",
    "\n",
    "class Birds(Enum):\n",
    "    Crow = 1\n",
    "    Eagle = 2\n",
    "    Hawk = 3\n",
    "\n",
    "# It can be displayed as string or repr\n",
    "print(Birds.Crow) # Birds.Crow\n",
    "\n",
    "# Checking the name of the enum using the `name` keyword\n",
    "print(Birds.Crow.name) # Crow\n",
    "\n",
    "# Checking the value of the enum using the `value` keyword\n",
    "print(Birds.Crow.value) # 1"
   ]
  },
  {
   "cell_type": "code",
   "execution_count": 5,
   "metadata": {},
   "outputs": [
    {
     "name": "stdout",
     "output_type": "stream",
     "text": [
      "Enum values are:\n",
      "Monday\n",
      "Tuesday\n",
      "Wednesday\n",
      "Thursday\n",
      "Friday\n",
      "Saturday\n",
      "Sunday\n"
     ]
    }
   ],
   "source": [
    "from enum import Enum\n",
    "\n",
    "class Days(Enum):\n",
    "    Monday = 1\n",
    "    Tuesday = 2\n",
    "    Wednesday = 3\n",
    "    Thursday = 4\n",
    "    Friday = 5\n",
    "    Saturday = 6\n",
    "    Sunday = 7\n",
    "\n",
    "# Iterating over the enum and printing the members\n",
    "print(\"Enum values are:\")\n",
    "for day in Days:\n",
    "    print(day.name)"
   ]
  }
 ],
 "metadata": {
  "kernelspec": {
   "display_name": "Python 3",
   "language": "python",
   "name": "python3"
  },
  "language_info": {
   "codemirror_mode": {
    "name": "ipython",
    "version": 3
   },
   "file_extension": ".py",
   "mimetype": "text/x-python",
   "name": "python",
   "nbconvert_exporter": "python",
   "pygments_lexer": "ipython3",
   "version": "3.12.0"
  }
 },
 "nbformat": 4,
 "nbformat_minor": 2
}
