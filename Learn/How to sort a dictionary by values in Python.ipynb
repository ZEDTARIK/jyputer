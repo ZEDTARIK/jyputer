{
 "cells": [
  {
   "cell_type": "markdown",
   "metadata": {},
   "source": [
    "# How to sort a dictionary by values in Python"
   ]
  },
  {
   "cell_type": "code",
   "execution_count": 3,
   "metadata": {},
   "outputs": [
    {
     "name": "stdout",
     "output_type": "stream",
     "text": [
      "{'a': 4, 'e': 1, 'b': 99, 'd': 0, 'c': 3}\n"
     ]
    }
   ],
   "source": [
    "data = {\"a\": 4, \"e\": 1, \"b\": 99, \"d\": 0, \"c\": 3}\n",
    "print(data)  # : 4, 'e': 1, 'b': 99, 'd': 0, 'c': 3}"
   ]
  },
  {
   "cell_type": "code",
   "execution_count": 6,
   "metadata": {},
   "outputs": [
    {
     "name": "stdout",
     "output_type": "stream",
     "text": [
      "{'d': 0, 'e': 1, 'c': 3, 'a': 4, 'b': 99}\n",
      "{'d': 0, 'e': 1, 'c': 3, 'a': 4, 'b': 99}\n",
      "[('d', 0), ('e', 1), ('c', 3), ('a', 4), ('b', 99)]\n"
     ]
    }
   ],
   "source": [
    "#Sort a dictionary by values¶\n",
    "data = {\"a\": 4, \"e\": 1, \"b\": 99, \"d\": 0, \"c\": 3}\n",
    "sorted_data = {k: v for k, v in sorted(data.items(), key=lambda x: x[1])}\n",
    "\n",
    "print(sorted_data)\n",
    "# {'d': 0, 'e': 1, 'c': 3, 'a': 4, 'b': 99}\n",
    "\n",
    "# Or\n",
    "\n",
    "sorted_data = dict(sorted(data.items(), key=lambda x: x[1]))\n",
    "\n",
    "print(sorted_data)\n",
    "# {'d': 0, 'e': 1, 'c': 3, 'a': 4, 'b': 99}\n",
    "\n",
    "#And sorted() returns a list of tuples:\n",
    "print(sorted(data.items(), key=lambda x: x[1]))\n"
   ]
  }
 ],
 "metadata": {
  "kernelspec": {
   "display_name": "Python 3",
   "language": "python",
   "name": "python3"
  },
  "language_info": {
   "codemirror_mode": {
    "name": "ipython",
    "version": 3
   },
   "file_extension": ".py",
   "mimetype": "text/x-python",
   "name": "python",
   "nbconvert_exporter": "python",
   "pygments_lexer": "ipython3",
   "version": "3.12.0"
  }
 },
 "nbformat": 4,
 "nbformat_minor": 2
}
