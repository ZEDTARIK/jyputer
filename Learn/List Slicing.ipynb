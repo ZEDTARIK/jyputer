{
 "cells": [
  {
   "cell_type": "code",
   "execution_count": 8,
   "metadata": {},
   "outputs": [
    {
     "name": "stdout",
     "output_type": "stream",
     "text": [
      "['Zouhair', True, 12.55, 'Emma', 98]\n",
      "50\n",
      "['Zouhair', 12.55, 98]\n",
      "['Zouhair', 'Emma']\n",
      "[50, 'Emma', True]\n"
     ]
    }
   ],
   "source": [
    "# Slicing List ListName\n",
    "# [start_index : end_index : step]\n",
    "\n",
    "myList= [1, 2, \"Zouhair\", True, 12.55, \"Emma\", 98, 50]\n",
    "\n",
    "print(myList[2: 7]) # ['Zouhair', True, 12.55, 'Emma', 98]\n",
    "\n",
    "print(myList[-1]) # 50 \n",
    "\n",
    "print(myList[2: 7: 2]) # ['Zouhair', 12.55, 98]\n",
    "\n",
    "print(myList[2: 7: 3]) # ['Zouhair', 'Emma']\n",
    "\n",
    "print(myList[-1: -6: -2]) # [50, 'Emma', True]\n"
   ]
  }
 ],
 "metadata": {
  "kernelspec": {
   "display_name": "Python 3",
   "language": "python",
   "name": "python3"
  },
  "language_info": {
   "codemirror_mode": {
    "name": "ipython",
    "version": 3
   },
   "file_extension": ".py",
   "mimetype": "text/x-python",
   "name": "python",
   "nbconvert_exporter": "python",
   "pygments_lexer": "ipython3",
   "version": "3.12.0"
  }
 },
 "nbformat": 4,
 "nbformat_minor": 2
}
