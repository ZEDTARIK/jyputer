{
 "cells": [
  {
   "cell_type": "code",
   "execution_count": 16,
   "metadata": {},
   "outputs": [
    {
     "name": "stdout",
     "output_type": "stream",
     "text": [
      "['Zouhair', True, 12.55, 'Emma', 98]\n",
      "50\n",
      "['Zouhair', 12.55, 98]\n",
      "['Zouhair', 'Emma']\n",
      "[50, 'Emma', True]\n",
      "[1, 2, 'Zouhair', True]\n",
      "[1, 'Zouhair', 12.55, 98]\n",
      "[50, 'Emma', True, 2]\n",
      "[50, 98, 'Emma', 12.55, True, 'Zouhair', 2, 1]\n",
      "[2, 'Zouhair', True, 12.55, 'Emma', 98, 50]\n"
     ]
    }
   ],
   "source": [
    "# Slicing List ListName\n",
    "# [start_index : end_index : step]\n",
    "\n",
    "myList= [1, 2, \"Zouhair\", True, 12.55, \"Emma\", 98, 50]\n",
    "\n",
    "print(myList[2: 7]) # ['Zouhair', True, 12.55, 'Emma', 98]\n",
    "\n",
    "print(myList[-1]) # 50 \n",
    "\n",
    "print(myList[2: 7: 2]) # ['Zouhair', 12.55, 98]\n",
    "\n",
    "print(myList[2: 7: 3]) # ['Zouhair', 'Emma']\n",
    "\n",
    "print(myList[-1: -6: -2]) # [50, 'Emma', True]\n",
    "\n",
    "\n",
    "print(myList[:4]) # [1, 2, 'Zouhair', True]\n",
    "\n",
    "print(myList[::2]) # [1, 'Zouhair', 12.55, 98]  print every second element ( with a skip count 2)\n",
    "print(myList[::-2]) #[50, 'Emma', True, 2]  \n",
    "\n",
    "# reversing the list \n",
    "print(myList[::-1]) # [50, 98, 'Emma', 12.55, True, 'Zouhair', 2, 1]\n",
    "\n",
    "# start a 3nd item to last item\n",
    "print(myList[2::]) # [2, 'Zouhair', True, 12.55, 'Emma', 98, 50]"
   ]
  },
  {
   "cell_type": "markdown",
   "metadata": {},
   "source": []
  },
  {
   "cell_type": "markdown",
   "metadata": {},
   "source": [
    "# Add item at the specified position in the list"
   ]
  },
  {
   "cell_type": "markdown",
   "metadata": {},
   "source": [
    "## insert(index, object)"
   ]
  },
  {
   "cell_type": "code",
   "execution_count": 20,
   "metadata": {},
   "outputs": [
    {
     "name": "stdout",
     "output_type": "stream",
     "text": [
      "[20, 'Zouhair', 30, True]\n"
     ]
    }
   ],
   "source": [
    "my_list = [20, 30, True]\n",
    "\n",
    "my_list.insert(1, \"Zouhair\")\n",
    "\n",
    "print(my_list) # [20, 'Zouhair', 30, True]"
   ]
  },
  {
   "cell_type": "markdown",
   "metadata": {},
   "source": [
    "## Using extend"
   ]
  },
  {
   "cell_type": "code",
   "execution_count": 21,
   "metadata": {},
   "outputs": [
    {
     "name": "stdout",
     "output_type": "stream",
     "text": [
      "[20, 25, False, 'Zouhair', True]\n"
     ]
    }
   ],
   "source": [
    "my_list = [ 20, 25, False]\n",
    "\n",
    "my_list.extend([\"Zouhair\", True])\n",
    "\n",
    "print(my_list) # [20, 25, False, 'Zouhair', True]"
   ]
  },
  {
   "cell_type": "markdown",
   "metadata": {},
   "source": [
    "## using append"
   ]
  },
  {
   "cell_type": "code",
   "execution_count": 25,
   "metadata": {},
   "outputs": [
    {
     "name": "stdout",
     "output_type": "stream",
     "text": [
      "[10, 5, True, 15.69, 'Zouhair']\n",
      "[10, 5, True, 15.69, 'Zouhair', [9999, 8888]]\n"
     ]
    }
   ],
   "source": [
    "my_list =  [10, 5, True, 15.69]\n",
    "\n",
    "my_list.append(\"Zouhair\")\n",
    "\n",
    "print(my_list) # [10, 5, True, 15.69, 'Zouhair']\n",
    "\n",
    "my_list.append([9999, 8888]) # [10, 5, True, 15.69, 'Zouhair', [9999, 8888]]\n",
    "\n",
    "print(my_list)"
   ]
  },
  {
   "cell_type": "markdown",
   "metadata": {},
   "source": [
    "#Create List wiht range 8 "
   ]
  },
  {
   "cell_type": "code",
   "execution_count": 25,
   "metadata": {},
   "outputs": [
    {
     "name": "stdout",
     "output_type": "stream",
     "text": [
      "[1, 2, 3, 4, 5, 6, 7]\n",
      "[1, 2, 3, 4, 5, 6, 7, 10]\n",
      "[1, 2, 3, 4, 5, 55, 6, 7, 10]\n",
      "[1, 2, 3, 4, 5, 55, 6, 7, 10, 100, 200, 300]\n",
      "[1, 2, 3, 4, 5, 55, 6, 7, 10, 100, 300]\n",
      "[1, 2, 3, 4, 5, 55, 6, 7, 10, 100]\n",
      "1\n"
     ]
    },
    {
     "data": {
      "text/plain": [
       "1"
      ]
     },
     "execution_count": 25,
     "metadata": {},
     "output_type": "execute_result"
    }
   ],
   "source": [
    "numbers = list(range(1, 8))\n",
    "\n",
    "print(numbers) # [1, 2, 3, 4, 5, 6, 7]\n",
    "\n",
    "# append \n",
    "numbers.append(10)\n",
    "print(numbers) # [1, 2, 3, 4, 5, 6, 7, 10]\n",
    "\n",
    "# insert\n",
    "numbers.insert(5, 55)\n",
    "\n",
    "print(numbers) # [1, 2, 3, 4, 5, 55, 6, 7, 10]\n",
    "\n",
    "#extend\n",
    "\n",
    "numbers.extend([100, 200, 300])\n",
    "\n",
    "print(numbers) # [1, 2, 3, 4, 5, 55, 6, 7, 10, 100, 200, 300]\n",
    "\n",
    "# remove\n",
    "numbers.remove(200)\n",
    "\n",
    "print(numbers) # [1, 3, 4, 5, 55, 6, 7, 10, 100, 300]\n",
    "\n",
    "#pop\n",
    "\n",
    "numbers.pop()\n",
    "print(numbers) # [1, 3, 4, 5, 55, 6, 7, 10, 100]\n",
    "\n",
    "\n",
    "# count\n",
    "\n",
    "print(numbers.count(10)) # 1\n",
    "\n",
    "max(numbers) # 100\n",
    "\n",
    "min(numbers)\n"
   ]
  },
  {
   "cell_type": "code",
   "execution_count": 37,
   "metadata": {},
   "outputs": [
    {
     "name": "stdout",
     "output_type": "stream",
     "text": [
      "[(1, 4), (2, 1), (3, 2)]\n",
      "[(3, 2), (2, 1), (1, 4)]\n",
      "[(2, 1), (3, 2), (1, 4)]\n"
     ]
    }
   ],
   "source": [
    "points = [(3, 2), (1, 4), (2, 1)]\n",
    "#Sorted \n",
    "\n",
    "print(sorted(points)) # [(1, 4), (2, 1), (3, 2)]\n",
    "\n",
    "print(sorted(points, reverse=True)) # [(3, 2), (2, 1), (1, 4)]\n",
    "\n",
    "print(sorted(points, key=lambda x: x[1])) # [(2, 1), (3, 2), (1, 4)]"
   ]
  }
 ],
 "metadata": {
  "kernelspec": {
   "display_name": "Python 3",
   "language": "python",
   "name": "python3"
  },
  "language_info": {
   "codemirror_mode": {
    "name": "ipython",
    "version": 3
   },
   "file_extension": ".py",
   "mimetype": "text/x-python",
   "name": "python",
   "nbconvert_exporter": "python",
   "pygments_lexer": "ipython3",
   "version": "3.12.0"
  }
 },
 "nbformat": 4,
 "nbformat_minor": 2
}
