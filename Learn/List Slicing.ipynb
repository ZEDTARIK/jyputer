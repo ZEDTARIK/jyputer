{
 "cells": [
  {
   "cell_type": "code",
   "execution_count": 16,
   "metadata": {},
   "outputs": [
    {
     "name": "stdout",
     "output_type": "stream",
     "text": [
      "['Zouhair', True, 12.55, 'Emma', 98]\n",
      "50\n",
      "['Zouhair', 12.55, 98]\n",
      "['Zouhair', 'Emma']\n",
      "[50, 'Emma', True]\n",
      "[1, 2, 'Zouhair', True]\n",
      "[1, 'Zouhair', 12.55, 98]\n",
      "[50, 'Emma', True, 2]\n",
      "[50, 98, 'Emma', 12.55, True, 'Zouhair', 2, 1]\n",
      "[2, 'Zouhair', True, 12.55, 'Emma', 98, 50]\n"
     ]
    }
   ],
   "source": [
    "# Slicing List ListName\n",
    "# [start_index : end_index : step]\n",
    "\n",
    "myList= [1, 2, \"Zouhair\", True, 12.55, \"Emma\", 98, 50]\n",
    "\n",
    "print(myList[2: 7]) # ['Zouhair', True, 12.55, 'Emma', 98]\n",
    "\n",
    "print(myList[-1]) # 50 \n",
    "\n",
    "print(myList[2: 7: 2]) # ['Zouhair', 12.55, 98]\n",
    "\n",
    "print(myList[2: 7: 3]) # ['Zouhair', 'Emma']\n",
    "\n",
    "print(myList[-1: -6: -2]) # [50, 'Emma', True]\n",
    "\n",
    "\n",
    "print(myList[:4]) # [1, 2, 'Zouhair', True]\n",
    "\n",
    "print(myList[::2]) # [1, 'Zouhair', 12.55, 98]  print every second element ( with a skip count 2)\n",
    "print(myList[::-2]) #[50, 'Emma', True, 2]  \n",
    "\n",
    "# reversing the list \n",
    "print(myList[::-1]) # [50, 98, 'Emma', 12.55, True, 'Zouhair', 2, 1]\n",
    "\n",
    "# start a 3nd item to last item\n",
    "print(myList[2::]) # [2, 'Zouhair', True, 12.55, 'Emma', 98, 50]"
   ]
  },
  {
   "cell_type": "markdown",
   "metadata": {},
   "source": []
  },
  {
   "cell_type": "markdown",
   "metadata": {},
   "source": [
    "# Add item at the specified position in the list"
   ]
  },
  {
   "cell_type": "markdown",
   "metadata": {},
   "source": [
    "## insert(index, object)"
   ]
  },
  {
   "cell_type": "code",
   "execution_count": 20,
   "metadata": {},
   "outputs": [
    {
     "name": "stdout",
     "output_type": "stream",
     "text": [
      "[20, 'Zouhair', 30, True]\n"
     ]
    }
   ],
   "source": [
    "my_list = [20, 30, True]\n",
    "\n",
    "my_list.insert(1, \"Zouhair\")\n",
    "\n",
    "print(my_list) # [20, 'Zouhair', 30, True]"
   ]
  },
  {
   "cell_type": "markdown",
   "metadata": {},
   "source": [
    "## Using extend"
   ]
  },
  {
   "cell_type": "code",
   "execution_count": 21,
   "metadata": {},
   "outputs": [
    {
     "name": "stdout",
     "output_type": "stream",
     "text": [
      "[20, 25, False, 'Zouhair', True]\n"
     ]
    }
   ],
   "source": [
    "my_list = [ 20, 25, False]\n",
    "\n",
    "my_list.extend([\"Zouhair\", True])\n",
    "\n",
    "print(my_list) # [20, 25, False, 'Zouhair', True]"
   ]
  },
  {
   "cell_type": "markdown",
   "metadata": {},
   "source": [
    "## using append"
   ]
  },
  {
   "cell_type": "code",
   "execution_count": 25,
   "metadata": {},
   "outputs": [
    {
     "name": "stdout",
     "output_type": "stream",
     "text": [
      "[10, 5, True, 15.69, 'Zouhair']\n",
      "[10, 5, True, 15.69, 'Zouhair', [9999, 8888]]\n"
     ]
    }
   ],
   "source": [
    "my_list =  [10, 5, True, 15.69]\n",
    "\n",
    "my_list.append(\"Zouhair\")\n",
    "\n",
    "print(my_list) # [10, 5, True, 15.69, 'Zouhair']\n",
    "\n",
    "my_list.append([9999, 8888]) # [10, 5, True, 15.69, 'Zouhair', [9999, 8888]]\n",
    "\n",
    "print(my_list)"
   ]
  }
 ],
 "metadata": {
  "kernelspec": {
   "display_name": "Python 3",
   "language": "python",
   "name": "python3"
  },
  "language_info": {
   "codemirror_mode": {
    "name": "ipython",
    "version": 3
   },
   "file_extension": ".py",
   "mimetype": "text/x-python",
   "name": "python",
   "nbconvert_exporter": "python",
   "pygments_lexer": "ipython3",
   "version": "3.12.0"
  }
 },
 "nbformat": 4,
 "nbformat_minor": 2
}
