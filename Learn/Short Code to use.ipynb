{
 "cells": [
  {
   "cell_type": "code",
   "execution_count": 4,
   "metadata": {},
   "outputs": [
    {
     "name": "stdout",
     "output_type": "stream",
     "text": [
      "list1_list2_list_n\n"
     ]
    }
   ],
   "source": [
    "# function join \n",
    "my_list = ['list1', 'list2', 'list_n']\n",
    "\n",
    "join = ('_').join(my_list)\n",
    "print(join)\n"
   ]
  },
  {
   "cell_type": "code",
   "execution_count": 5,
   "metadata": {},
   "outputs": [
    {
     "name": "stdout",
     "output_type": "stream",
     "text": [
      "list1_list2_list_n\n"
     ]
    }
   ],
   "source": [
    "# function join \n",
    "my_list = ['list1', 'list2', 'list_n', None]\n",
    "\n",
    "join = ('_').join(filter(None, my_list))\n",
    "print(join)\n"
   ]
  }
 ],
 "metadata": {
  "kernelspec": {
   "display_name": "Python 3",
   "language": "python",
   "name": "python3"
  },
  "language_info": {
   "codemirror_mode": {
    "name": "ipython",
    "version": 3
   },
   "file_extension": ".py",
   "mimetype": "text/x-python",
   "name": "python",
   "nbconvert_exporter": "python",
   "pygments_lexer": "ipython3",
   "version": "3.12.0"
  }
 },
 "nbformat": 4,
 "nbformat_minor": 2
}
