{
 "cells": [
  {
   "cell_type": "code",
   "execution_count": 4,
   "metadata": {},
   "outputs": [
    {
     "name": "stdout",
     "output_type": "stream",
     "text": [
      "list1_list2_list_n\n"
     ]
    }
   ],
   "source": [
    "# function join \n",
    "my_list = ['list1', 'list2', 'list_n']\n",
    "\n",
    "join = ('_').join(my_list)\n",
    "print(join)\n"
   ]
  },
  {
   "cell_type": "code",
   "execution_count": 7,
   "metadata": {},
   "outputs": [
    {
     "name": "stdout",
     "output_type": "stream",
     "text": [
      "list1_list2_list_n\n"
     ]
    }
   ],
   "source": [
    "# function join \n",
    "my_list = ['list1', 'list2', 'list_n', None]\n",
    "\n",
    "join = ('_').join(filter(None, my_list))\n",
    "#join = '_'.join([i for i in my_list if i])\n",
    "print(join)\n"
   ]
  },
  {
   "cell_type": "code",
   "execution_count": 9,
   "metadata": {},
   "outputs": [
    {
     "name": "stdout",
     "output_type": "stream",
     "text": [
      "other the key is not exist\n"
     ]
    }
   ],
   "source": [
    "# Get key from dictionary \n",
    "dic = {\n",
    "        \"dataCamp\": \"Daily Python Questions.ipynb\", \n",
    "        \"Angular\": \"LoremUpsum\",\n",
    "        \"Front\": \"somthing\"\n",
    "       }\n",
    "\n",
    "#key = \"Angular\"\n",
    "key = \"other\"\n",
    "profeesion = dic.get(key, \"{} the key is not exist\". format(key))\n",
    "\n",
    "print(profeesion)\n"
   ]
  }
 ],
 "metadata": {
  "kernelspec": {
   "display_name": "Python 3",
   "language": "python",
   "name": "python3"
  },
  "language_info": {
   "codemirror_mode": {
    "name": "ipython",
    "version": 3
   },
   "file_extension": ".py",
   "mimetype": "text/x-python",
   "name": "python",
   "nbconvert_exporter": "python",
   "pygments_lexer": "ipython3",
   "version": "3.12.0"
  }
 },
 "nbformat": 4,
 "nbformat_minor": 2
}
