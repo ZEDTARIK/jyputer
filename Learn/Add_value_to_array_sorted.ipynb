{
 "cells": [
  {
   "cell_type": "markdown",
   "metadata": {},
   "source": [
    "# How to add new value in array ( keep array sorted )"
   ]
  },
  {
   "cell_type": "code",
   "execution_count": 17,
   "metadata": {},
   "outputs": [
    {
     "name": "stdout",
     "output_type": "stream",
     "text": [
      "[1, 2, 3, 4, 8, 9, 100, 102]\n"
     ]
    }
   ],
   "source": [
    "array = [1,2,3,4,8,9, 100, 102]\n",
    "print(array)"
   ]
  },
  {
   "cell_type": "markdown",
   "metadata": {},
   "source": [
    "# Solution 1 using for loop"
   ]
  },
  {
   "cell_type": "code",
   "execution_count": 18,
   "metadata": {},
   "outputs": [
    {
     "name": "stdout",
     "output_type": "stream",
     "text": [
      "[1, 2, 3, 4, 8, 9, 89, 100, 102]\n"
     ]
    }
   ],
   "source": [
    "# Step 1 using for loop\n",
    "\n",
    "def insert_into_sorted_list(arr, value):\n",
    "    # Find the index where 'value' should be inserted to maintain sorted order\n",
    "    index = 0\n",
    "    while index < len(arr) and arr[index] < value:\n",
    "        index += 1\n",
    "    \n",
    "    # Insert 'value' at the found index\n",
    "    arr.insert(index, value)\n",
    "\n",
    "array = [1,2,3,4,8,9, 100, 102]\n",
    "value = 89\n",
    "\n",
    "insert_into_sorted_list(array, value)\n",
    "print(array)  # Output the updated array\n"
   ]
  },
  {
   "cell_type": "markdown",
   "metadata": {},
   "source": [
    "# Solution 2 using bisect module"
   ]
  },
  {
   "cell_type": "code",
   "execution_count": 19,
   "metadata": {},
   "outputs": [
    {
     "name": "stdout",
     "output_type": "stream",
     "text": [
      "[1, 2, 3, 4, 8, 9, 89, 100, 102]\n"
     ]
    }
   ],
   "source": [
    "import bisect\n",
    "\n",
    "array = [1,2,3,4,8,9, 100, 102]\n",
    "value = 89\n",
    "\n",
    "bisect.insort(array, value)\n",
    "print(array)\n"
   ]
  }
 ],
 "metadata": {
  "kernelspec": {
   "display_name": "Python 3",
   "language": "python",
   "name": "python3"
  },
  "language_info": {
   "codemirror_mode": {
    "name": "ipython",
    "version": 3
   },
   "file_extension": ".py",
   "mimetype": "text/x-python",
   "name": "python",
   "nbconvert_exporter": "python",
   "pygments_lexer": "ipython3",
   "version": "3.12.0"
  }
 },
 "nbformat": 4,
 "nbformat_minor": 2
}
