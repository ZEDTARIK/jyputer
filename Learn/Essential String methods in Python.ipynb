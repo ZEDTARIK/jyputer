{
 "cells": [
  {
   "cell_type": "markdown",
   "metadata": {},
   "source": [
    "# How to reverse a string in Python"
   ]
  },
  {
   "cell_type": "code",
   "execution_count": 1,
   "metadata": {},
   "outputs": [
    {
     "name": "stdout",
     "output_type": "stream",
     "text": [
      "nohtyP\n"
     ]
    }
   ],
   "source": [
    "my_string = \"Python\"\n",
    "reversed_string = my_string[::-1]\n",
    "print(reversed_string) # nohtyP"
   ]
  },
  {
   "cell_type": "code",
   "execution_count": 8,
   "metadata": {},
   "outputs": [
    {
     "name": "stdout",
     "output_type": "stream",
     "text": [
      "nohtyP\n"
     ]
    }
   ],
   "source": [
    "my_string = \"Python\"\n",
    "reversed_string = ''.join(reversed(my_string))\n",
    "print(reversed_string) # nohtyP\n"
   ]
  },
  {
   "cell_type": "markdown",
   "metadata": {},
   "source": [
    "# Strip a string in Python"
   ]
  },
  {
   "cell_type": "code",
   "execution_count": 6,
   "metadata": {},
   "outputs": [
    {
     "name": "stdout",
     "output_type": "stream",
     "text": [
      "hello\n"
     ]
    }
   ],
   "source": [
    "s = '   hello        '.strip() # 'hello'\n",
    "print(s) # hello\n",
    "\n",
    "s = '###hello###'.strip('#')  # 'hello'"
   ]
  },
  {
   "cell_type": "code",
   "execution_count": 4,
   "metadata": {},
   "outputs": [],
   "source": [
    "s = '   hello   '.lstrip()   # 'hello   '\n",
    "s = '   hello   '.rstrip()   # '   hello'"
   ]
  },
  {
   "cell_type": "code",
   "execution_count": 13,
   "metadata": {},
   "outputs": [
    {
     "name": "stdout",
     "output_type": "stream",
     "text": [
      "example\n"
     ]
    }
   ],
   "source": [
    "s = 'www.example.com'.strip('cmow.')\n",
    "print(s) # 'www.example'"
   ]
  },
  {
   "cell_type": "markdown",
   "metadata": {},
   "source": [
    "# remove Suffix"
   ]
  },
  {
   "cell_type": "code",
   "execution_count": 15,
   "metadata": {},
   "outputs": [],
   "source": [
    "s = 'HelloPython'.removesuffix('Python') # 'Hello'"
   ]
  },
  {
   "cell_type": "markdown",
   "metadata": {},
   "source": [
    "# Split "
   ]
  },
  {
   "cell_type": "code",
   "execution_count": 23,
   "metadata": {},
   "outputs": [
    {
     "name": "stdout",
     "output_type": "stream",
     "text": [
      "['string', 'methods', 'in', 'python']\n",
      "['string', 'methods in python']\n"
     ]
    }
   ],
   "source": [
    "s = 'string methods in python'.split() # ['string','methods', 'in', 'python']\n",
    "print(s)\n",
    "\n",
    "s = 'string methods in python'.split(' ', maxsplit=1) # ['string','methods in python']\n",
    "print(s)"
   ]
  },
  {
   "cell_type": "code",
   "execution_count": 25,
   "metadata": {},
   "outputs": [
    {
     "name": "stdout",
     "output_type": "stream",
     "text": [
      "string methods in python using join\n"
     ]
    }
   ],
   "source": [
    "list_of_strings = ['string', 'methods', 'in', 'python', 'using join']\n",
    "s = ' '.join(list_of_strings) # 'string methods in python'\n",
    "print(s)"
   ]
  },
  {
   "cell_type": "markdown",
   "metadata": {},
   "source": [
    "# Center / ljuste / rjuste"
   ]
  },
  {
   "cell_type": "code",
   "execution_count": 29,
   "metadata": {},
   "outputs": [],
   "source": [
    "s = 'Python is awesome!'\n",
    "s = s.center(30, '-')\n",
    "# ------Python is awesome!------\n",
    "\n",
    "s = 'Python is awesome!'\n",
    "s = s.ljust(30, '-')\n",
    "# Python is awesome!------------\n",
    "\n",
    "s = 'Python is awesome!'\n",
    "s = s.rjust(30, '-')\n",
    "# ------------Python is awesome!"
   ]
  },
  {
   "cell_type": "markdown",
   "metadata": {},
   "source": [
    "# Partition the code into lines"
   ]
  },
  {
   "cell_type": "code",
   "execution_count": 35,
   "metadata": {},
   "outputs": [],
   "source": [
    "s = 'Python is awesome!'\n",
    "parts = s.partition('is')\n",
    "# ('Python ', 'is', ' awesome!'\n",
    "\n",
    "parts = s.partition('was')\n",
    "# ('Python is awesome!', '', ''"
   ]
  },
  {
   "cell_type": "markdown",
   "metadata": {},
   "source": [
    "# \"f\" interpolation"
   ]
  },
  {
   "cell_type": "code",
   "execution_count": 38,
   "metadata": {},
   "outputs": [
    {
     "name": "stdout",
     "output_type": "stream",
     "text": [
      "Python is the number 1 in programming!\n"
     ]
    }
   ],
   "source": [
    "num = 1\n",
    "language = 'Python'\n",
    "s = f'{language} is the number {num} in programming!'\n",
    "# 'Python is the number 1 in programming!'\n",
    "\n",
    "print(s)"
   ]
  },
  {
   "cell_type": "markdown",
   "metadata": {},
   "source": [
    "# zfill "
   ]
  },
  {
   "cell_type": "code",
   "execution_count": 49,
   "metadata": {},
   "outputs": [
    {
     "name": "stdout",
     "output_type": "stream",
     "text": [
      "00042\n",
      "-0042\n",
      "005-2\n"
     ]
    }
   ],
   "source": [
    "s = '42'.zfill(5)  # '00042'\n",
    "print(s)\n",
    "\n",
    "s = '-42'.zfill(5) # '-0042'\n",
    "print(s)\n",
    "\n",
    "s = '5-2'.zfill(5) # '005-2'\n",
    "print(s)"
   ]
  }
 ],
 "metadata": {
  "kernelspec": {
   "display_name": "Python 3",
   "language": "python",
   "name": "python3"
  },
  "language_info": {
   "codemirror_mode": {
    "name": "ipython",
    "version": 3
   },
   "file_extension": ".py",
   "mimetype": "text/x-python",
   "name": "python",
   "nbconvert_exporter": "python",
   "pygments_lexer": "ipython3",
   "version": "3.12.0"
  }
 },
 "nbformat": 4,
 "nbformat_minor": 2
}
