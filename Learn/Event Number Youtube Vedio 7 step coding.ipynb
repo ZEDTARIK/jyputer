{
 "cells": [
  {
   "cell_type": "code",
   "execution_count": 9,
   "metadata": {},
   "outputs": [],
   "source": [
    "#Event Number\n",
    "%timeit\n",
    "\n",
    "def find_event_number(start, stop):\n",
    "    event_numbers = []\n",
    "    for number in range(start, stop):\n",
    "        if number % 2 == 0:\n",
    "            event_numbers.append(number)\n",
    "    return event_numbers\n",
    "\n",
    "\n",
    "# find_event_number(99, 10_000_000)\n",
    "\n"
   ]
  },
  {
   "cell_type": "code",
   "execution_count": 17,
   "metadata": {},
   "outputs": [],
   "source": [
    "#Event Number\n",
    "%timeit\n",
    "\n",
    "def find_event_number(start, stop):\n",
    "    event_numbers = []\n",
    "    for number in range(start, stop):\n",
    "        if number & 1 == 0:\n",
    "            event_numbers.append(number)\n",
    "    return event_numbers\n",
    "\n",
    "\n",
    "# find_event_number(99, 10_000_000)\n",
    "\n"
   ]
  },
  {
   "cell_type": "code",
   "execution_count": 18,
   "metadata": {},
   "outputs": [],
   "source": [
    "%timeit\n",
    "def find_event_number(start, stop):\n",
    "    event_numbers = []\n",
    "    return [number  for number in range(start, stop) if number & 1 == 0]        \n",
    "\n",
    "# find_event_number(99, 10_000_000)\n",
    "\n"
   ]
  },
  {
   "cell_type": "code",
   "execution_count": 25,
   "metadata": {},
   "outputs": [
    {
     "data": {
      "text/plain": [
       "<filter at 0x22766d82770>"
      ]
     },
     "execution_count": 25,
     "metadata": {},
     "output_type": "execute_result"
    }
   ],
   "source": [
    "%timeit\n",
    "def is_event_number(number):\n",
    "    return number & 1 == 0\n",
    "\n",
    "def find_event_number(start, stop):\n",
    "    return filter(is_event_number, range(start, stop))\n",
    "\n",
    "find_event_number(99, 10_000_000)\n",
    "\n"
   ]
  }
 ],
 "metadata": {
  "kernelspec": {
   "display_name": "Python 3",
   "language": "python",
   "name": "python3"
  },
  "language_info": {
   "codemirror_mode": {
    "name": "ipython",
    "version": 3
   },
   "file_extension": ".py",
   "mimetype": "text/x-python",
   "name": "python",
   "nbconvert_exporter": "python",
   "pygments_lexer": "ipython3",
   "version": "3.12.0"
  }
 },
 "nbformat": 4,
 "nbformat_minor": 2
}
