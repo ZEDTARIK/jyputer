{
 "cells": [
  {
   "cell_type": "markdown",
   "metadata": {},
   "source": [
    "# timeit in Jupyer Notebook Cells"
   ]
  },
  {
   "cell_type": "code",
   "execution_count": 12,
   "metadata": {},
   "outputs": [
    {
     "name": "stdout",
     "output_type": "stream",
     "text": [
      "28.5 µs ± 1.65 µs per loop (mean ± std. dev. of 7 runs, 1,000 loops each)\n"
     ]
    }
   ],
   "source": [
    "# jupyter cell\n",
    "def do_something():\n",
    "    for i in range(1_000): i * i\n",
    "\n",
    "%timeit -n 1000 do_something()"
   ]
  },
  {
   "cell_type": "code",
   "execution_count": 14,
   "metadata": {},
   "outputs": [
    {
     "name": "stdout",
     "output_type": "stream",
     "text": [
      "do_something() executed in 0.070973s\n"
     ]
    }
   ],
   "source": [
    "from timeit import default_timer as timer\n",
    "\n",
    "def timer_func(func):\n",
    "    def wrapper(*args, **kwargs):\n",
    "        t1 = timer()\n",
    "        result = func(*args, **kwargs)\n",
    "        t2 = timer()\n",
    "        print(f'{func.__name__}() executed in {(t2-t1):.6f}s')\n",
    "        return result\n",
    "    return wrapper\n",
    "\n",
    "\n",
    "@timer_func\n",
    "def do_something():\n",
    "    for i in range(1_000_000): i * i\n",
    "\n",
    "do_something()"
   ]
  }
 ],
 "metadata": {
  "kernelspec": {
   "display_name": "Python 3",
   "language": "python",
   "name": "python3"
  },
  "language_info": {
   "codemirror_mode": {
    "name": "ipython",
    "version": 3
   },
   "file_extension": ".py",
   "mimetype": "text/x-python",
   "name": "python",
   "nbconvert_exporter": "python",
   "pygments_lexer": "ipython3",
   "version": "3.12.0"
  }
 },
 "nbformat": 4,
 "nbformat_minor": 2
}
