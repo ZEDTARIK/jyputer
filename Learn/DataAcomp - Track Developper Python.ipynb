{
 "cells": [
  {
   "cell_type": "markdown",
   "metadata": {},
   "source": [
    "# DataAcomp Python Tracker"
   ]
  },
  {
   "cell_type": "markdown",
   "metadata": {},
   "source": [
    "# 1. list"
   ]
  },
  {
   "cell_type": "code",
   "execution_count": 91,
   "metadata": {},
   "outputs": [
    {
     "name": "stdout",
     "output_type": "stream",
     "text": [
      "[1, 2, 3, 4, 5, 6, 7, 8, 9, 10]\n",
      "[1, 2, 3, 4, 5, 6, 7, 8, 9, 10]\n"
     ]
    }
   ],
   "source": [
    "list = [1, 2, 3, 4, 5, 6, 7, 8, 9, 10]\n",
    "\n",
    "    # Positive indexing\n",
    "# print(list[:4])  # [start, end-1] [1, 2, 3, 4]\n",
    "# print(list[::3])   # [1, 4, 7]\n",
    "# print(list[1::3])  #  [2, 5, 8]\n",
    "# print(list[::4]) #  [1, 5, 9]\n",
    "# print(list[::2]) #  [1, 3, 5, 7, 9]\n",
    "\n",
    "    # Negative indexing\n",
    "# print(list[:-4]) # [start, end-1] [1, 2, 3, 4, 5, 6 ]\n",
    "# print(list[::-3])   # [10, 7, 4, 1]\n",
    "# print(list[::-4]) # [10, 6, 2]\n",
    "# print(list[::-2]) # [10, 8, 6, 4, 2]\n",
    "\n",
    "# print(list[::-1]) # [10, 9, 8, 7, 6, 5, 4, 3, 2, 1]\n",
    "print(list[0::]) # [1, 2, 3, 4, 5, 6, 7, 8, 9, 10]\n",
    "print(list[::1]) # [1, 2, 3, 4, 5, 6, 7, 8, 9, 10]\n",
    "\n",
    "# print(list[2::]) # [3, 4, 5, 6, 7, 8, 9, 10]\n",
    "\n",
    "\n"
   ]
  },
  {
   "cell_type": "code",
   "execution_count": 13,
   "metadata": {},
   "outputs": [
    {
     "name": "stdout",
     "output_type": "stream",
     "text": [
      "['hallway', 11.25, 'kitchen', 18.0, 'living room', 20.0, 'bedroom', 10.75, 'bathroom', 9.5]\n"
     ]
    }
   ],
   "source": [
    "# area variables (in square meters)\n",
    "hall = 11.25\n",
    "kit = 18.0\n",
    "liv = 20.0\n",
    "bed = 10.75\n",
    "bath = 9.50\n",
    "\n",
    "# Adapt list areas\n",
    "areas = ['hallway', hall, 'kitchen', kit, 'living room', liv, 'bedroom',  bed, 'bathroom', bath]\n",
    "\n",
    "# Print areas\n",
    "print(areas)"
   ]
  },
  {
   "cell_type": "code",
   "execution_count": 14,
   "metadata": {},
   "outputs": [
    {
     "name": "stdout",
     "output_type": "stream",
     "text": [
      "[['hallway', 11.25], ['kitchen', 18.0], ['living room', 20.0], ['bedroom', 10.75], ['bathroom', 9.5]]\n",
      "<class 'list'>\n"
     ]
    }
   ],
   "source": [
    "# area variables (in square meters)\n",
    "hall = 11.25\n",
    "kit = 18.0\n",
    "liv = 20.0\n",
    "bed = 10.75\n",
    "bath = 9.50\n",
    "\n",
    "# house information as list of lists\n",
    "house = [[\"hallway\", hall],\n",
    "         [\"kitchen\", kit],\n",
    "         [\"living room\", liv,],\n",
    "         [\"bedroom\", bed],\n",
    "         [\"bathroom\", bath]]\n",
    "\n",
    "# Print out house\n",
    "print(house)\n",
    "\n",
    "# Print out the type of house\n",
    "print(type(house))"
   ]
  },
  {
   "cell_type": "markdown",
   "metadata": {},
   "source": [
    "# 2.Subsetting lists"
   ]
  },
  {
   "cell_type": "code",
   "execution_count": 16,
   "metadata": {},
   "outputs": [
    {
     "name": "stdout",
     "output_type": "stream",
     "text": [
      "11.25\n",
      "9.5\n",
      "20.0\n",
      "[11.25, 'kitchen', 18.0, 'living room']\n",
      "[11.25, 'kitchen', 18.0, 'living room', 20.0, 'bedroom', 10.75, 'bathroom', 9.5]\n",
      "[9.5, 'bathroom', 10.75, 'bedroom', 20.0, 'living room', 18.0, 'kitchen', 11.25, 'hallway']\n",
      "[9.5, 10.75, 20.0, 18.0, 11.25]\n",
      "['hallway', 11.25, 'kitchen', 18.0, 'living room', 20.0, 'bedroom', 10.75, 'bathroom', 9.5]\n",
      "['hallway', 11.25, 'kitchen', 18.0, 'living room', 20.0, 'bedroom', 10.75, 'bathroom', 9.5]\n",
      "28.75\n"
     ]
    }
   ],
   "source": [
    "# Create the areas list\n",
    "areas = [\"hallway\", 11.25, \"kitchen\", 18.0, \"living room\", 20.0, \"bedroom\", 10.75, \"bathroom\", 9.50]\n",
    "\n",
    "# Print out second element from areas\n",
    "print(areas[1]) # 11.25\n",
    "\n",
    "# Print out last element from areas\n",
    "print(areas[-1]) # 9.5\n",
    "\n",
    "# Print out the area of the living room\n",
    "print(areas[5]) # 20.0\n",
    "\n",
    "# Create the areas list\n",
    "print(areas[1:5]) # 11.25, 'kitchen', 18.0, 'living room']\n",
    "\n",
    "print(areas[1::]) # [11.25, 'kitchen', 18.0, 'living room', 20.0, 'bedroom', 10.75, 'bathroom', 9.5]\n",
    "print(areas[::-1]) # [9.5, 'bathroom', 10.75, 'bedroom', 20.0, 'living room', 18.0, 'kitchen', 11.25, 'hallway']\n",
    "\n",
    "print(areas[::-2]) # [9.5, 10.75, 20.0, 18.0, 11.25]\n",
    "\n",
    "print(areas[::1]) # ['hallway', 11.25, 'kitchen', 18.0, 'living room', 20.0, 'bedroom', 10.75, 'bathroom', 9.5]\n",
    "print(areas[0::]) # ['hallway', 11.25, 'kitchen', 18.0, 'living room', 20.0, 'bedroom', 10.75, 'bathroom', 9.5]\n",
    "\n",
    "eat_sleep_area = sum([areas[3] + areas[-3]])\n",
    "print(eat_sleep_area) # 28.75"
   ]
  },
  {
   "cell_type": "code",
   "execution_count": 19,
   "metadata": {},
   "outputs": [
    {
     "name": "stdout",
     "output_type": "stream",
     "text": [
      "['hallway', 11.25, 'kitchen', 18.0, 'living room', 20.0] ['bedroom', 10.75, 'bathroom', 9.5]\n"
     ]
    }
   ],
   "source": [
    "# Create the areas list\n",
    "areas = [\"hallway\", 11.25, \"kitchen\", 18.0, \"living room\", 20.0, \"bedroom\", 10.75, \"bathroom\", 9.50]\n",
    "\n",
    "# Use slicing to create downstairs\n",
    "downstairs = areas[:6]\n",
    "\n",
    "# Use slicing to create upstairs\n",
    "upstairs = areas[-4:]\n",
    "\n",
    "# Print out downstairs and upstairs\n",
    "print(downstairs, upstairs)"
   ]
  },
  {
   "cell_type": "markdown",
   "metadata": {},
   "source": [
    "# 3.Manuypulating lists"
   ]
  },
  {
   "cell_type": "code",
   "execution_count": 98,
   "metadata": {},
   "outputs": [
    {
     "name": "stdout",
     "output_type": "stream",
     "text": [
      "True\n",
      "2617711049728 2617711049728\n",
      "True\n",
      "True\n",
      "2617710744832 2617710581568\n",
      "False\n"
     ]
    }
   ],
   "source": [
    "x = [1, 2, 3, 4, 5, 6, 7, 8, 9, 10]\n",
    "y = x \n",
    "\n",
    "# By reference\n",
    "print(x == y) # True\n",
    "print(id(x), id(y))\n",
    "print(x is y) # True\n",
    "# By value\n",
    "\n",
    "x = [1, 2, 3, 4, 5, 6, 7, 8, 9, 10]\n",
    "y = x.copy()\n",
    "\n",
    "print(x == y) # True\n",
    "print(id(x), id(y))\n",
    "print(x is y) # False\n",
    "\n"
   ]
  },
  {
   "cell_type": "code",
   "execution_count": 109,
   "metadata": {},
   "outputs": [
    {
     "name": "stdout",
     "output_type": "stream",
     "text": [
      "['hallway', 11.25, 'kitchen', 18.0, 'chill zone', 20.0, 'bedroom', 10.75, 'bathroom', 10.5, 'poolhouse', 24.5, 'garage', 15.45]\n",
      "15.45\n",
      "['hallway', 11.25, 'kitchen', 18.0, 'chill zone', 20.0, 'bedroom', 10.75, 'bathroom', 10.5, 'poolhouse', 24.5, 'garage', 88888.5]\n",
      "['hallway', 11.25, 'kitchen', 18.0, 'chill zone', 20.0, 'bedroom', 10.75, 'bathroom', 10.5, 'garage', 88888.5]\n"
     ]
    }
   ],
   "source": [
    "areas = [\"hallway\", 11.25, \"kitchen\", 18.0,\n",
    "        \"chill zone\", 20.0, \"bedroom\", 10.75,\n",
    "         \"bathroom\", 10.50, \"poolhouse\", 24.5,\n",
    "         \"garage\", 15.45]\n",
    "\n",
    "print(areas)\n",
    "\n",
    "# Correct the bathroom area\n",
    "\n",
    "print(areas[-1]) # 10.50\n",
    "areas[-1] = 88888.50\n",
    "print(areas)\n",
    "\n",
    "del(areas[-4:-2]) # remove 2 elements from the list [poolhouse', 24.5]\n",
    "print(areas)\n"
   ]
  }
 ],
 "metadata": {
  "kernelspec": {
   "display_name": "Python 3",
   "language": "python",
   "name": "python3"
  },
  "language_info": {
   "codemirror_mode": {
    "name": "ipython",
    "version": 3
   },
   "file_extension": ".py",
   "mimetype": "text/x-python",
   "name": "python",
   "nbconvert_exporter": "python",
   "pygments_lexer": "ipython3",
   "version": "3.12.0"
  }
 },
 "nbformat": 4,
 "nbformat_minor": 2
}
