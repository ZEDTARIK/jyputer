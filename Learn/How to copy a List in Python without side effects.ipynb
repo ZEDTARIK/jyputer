{
 "cells": [
  {
   "cell_type": "markdown",
   "metadata": {},
   "source": [
    "# How to copy / clone  a List in Python without side effects"
   ]
  },
  {
   "cell_type": "code",
   "execution_count": 33,
   "metadata": {},
   "outputs": [
    {
     "name": "stdout",
     "output_type": "stream",
     "text": [
      "[1, 2, 3]\n"
     ]
    }
   ],
   "source": [
    "a = [1, 2, 3]\n",
    "b = a\n",
    "print(b)"
   ]
  },
  {
   "cell_type": "code",
   "execution_count": 44,
   "metadata": {},
   "outputs": [
    {
     "name": "stdout",
     "output_type": "stream",
     "text": [
      "[1, 2, 3]\n",
      "[1, 2, 3]\n",
      "[1, 2, 3, 4]\n",
      "[1, 2, 3, 4]\n"
     ]
    }
   ],
   "source": [
    "# Both objects point to the same memory location\n",
    "\n",
    "x = [1, 2, 3]\n",
    "y =x\n",
    "print(x) # [1, 2, 3]\n",
    "print(y) # [1, 2, 3]\n",
    "\n",
    "y.append(4)\n",
    "\n",
    "print(x) # [1, 2, 3, 4]\n",
    "print(y) # [1, 2, 3, 4]"
   ]
  },
  {
   "cell_type": "code",
   "execution_count": 53,
   "metadata": {},
   "outputs": [
    {
     "name": "stdout",
     "output_type": "stream",
     "text": [
      "[1, 2, 3]\n",
      "[1, 2, 3]\n"
     ]
    }
   ],
   "source": [
    "# Use List slicing to clone a List\n",
    "x1 = [1, 2, 3]\n",
    "y1 = x1[:]\n",
    "print(y1) # [1, 2, 3])\n",
    "print(x1) # [1, 2, 3]\n"
   ]
  },
  {
   "cell_type": "code",
   "execution_count": 55,
   "metadata": {},
   "outputs": [
    {
     "name": "stdout",
     "output_type": "stream",
     "text": [
      "[[1, 2], [3, 4]]\n",
      "[[1, 2], [3, 4]]\n",
      "[[1, 2, 99], [3, 4]]\n",
      "[[1, 2, 99], [3, 4]]\n"
     ]
    }
   ],
   "source": [
    "a = [[1, 2], [3, 4]]\n",
    "\n",
    "b = a[:]\n",
    "\n",
    "print(b) # [[1, 2], [3, 4]]\n",
    "print(a) # [[1, 2], [3, 4]]\n",
    "# or:\n",
    "# b = a.copy()\n",
    "# b = list(a)\n",
    "# b = copy.copy(a)\n",
    "\n",
    "b[0].append(99)\n",
    "print(b) # [[1, 2, 99], [3, 4]]\n",
    "print(a) # [[1, 2, 99], [3, 4]]"
   ]
  },
  {
   "cell_type": "code",
   "execution_count": 58,
   "metadata": {},
   "outputs": [
    {
     "name": "stdout",
     "output_type": "stream",
     "text": [
      "[[1, 2, 99], [3, 4]]\n",
      "[[1, 2, 99], [3, 4]]\n",
      "[[1, 2], [3, 4]]\n"
     ]
    }
   ],
   "source": [
    "import copy\n",
    "\n",
    "ax= [[1, 2], [3, 4]]\n",
    "\n",
    "bx = copy.deepcopy(ax)\n",
    "print(b) # [[1, 2], [3, 4]]\n",
    "\n",
    "bx[0].append(99)\n",
    "\n",
    "print(bx) # [[1, 2, 99], [3, 4]]\n",
    "print(ax) # [[1, 2], [3, 4]]"
   ]
  }
 ],
 "metadata": {
  "kernelspec": {
   "display_name": "Python 3",
   "language": "python",
   "name": "python3"
  },
  "language_info": {
   "codemirror_mode": {
    "name": "ipython",
    "version": 3
   },
   "file_extension": ".py",
   "mimetype": "text/x-python",
   "name": "python",
   "nbconvert_exporter": "python",
   "pygments_lexer": "ipython3",
   "version": "3.12.0"
  }
 },
 "nbformat": 4,
 "nbformat_minor": 2
}
