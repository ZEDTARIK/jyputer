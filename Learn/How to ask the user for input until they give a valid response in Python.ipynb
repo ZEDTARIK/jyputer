{
 "cells": [
  {
   "cell_type": "markdown",
   "metadata": {},
   "source": [
    "# How to ask the user for input until they give a valid response in Python"
   ]
  },
  {
   "cell_type": "code",
   "execution_count": 19,
   "metadata": {},
   "outputs": [
    {
     "name": "stdout",
     "output_type": "stream",
     "text": [
      "Sorry, I didn't understand that.\n",
      "Sorry, I didn't understand that.\n"
     ]
    },
    {
     "data": {
      "text/plain": [
       "20"
      ]
     },
     "execution_count": 19,
     "metadata": {},
     "output_type": "execute_result"
    }
   ],
   "source": [
    "def get_age() -> int:\n",
    "    \"\"\"\n",
    "    This function prompts the user to enter their age and validates the input.\n",
    "\n",
    "    Parameters:\n",
    "    No parameters are required.\n",
    "\n",
    "    Returns:\n",
    "    The function returns the user's age as an integer.\n",
    "\n",
    "    Raises:\n",
    "    ValueError: If the user enters a non-integer value.\n",
    "\n",
    "    Usage:\n",
    "    age = get_age()\n",
    "    \"\"\"\n",
    "    while True:\n",
    "        try:\n",
    "            age = int(input(\"Please enter your age: \"))\n",
    "        except ValueError:\n",
    "            print(\"Sorry, I didn't understand that.\")\n",
    "            continue\n",
    "        else:\n",
    "            break\n",
    "    return age\n",
    "\n",
    "get_age()"
   ]
  }
 ],
 "metadata": {
  "kernelspec": {
   "display_name": "Python 3",
   "language": "python",
   "name": "python3"
  },
  "language_info": {
   "codemirror_mode": {
    "name": "ipython",
    "version": 3
   },
   "file_extension": ".py",
   "mimetype": "text/x-python",
   "name": "python",
   "nbconvert_exporter": "python",
   "pygments_lexer": "ipython3",
   "version": "3.12.0"
  }
 },
 "nbformat": 4,
 "nbformat_minor": 2
}
