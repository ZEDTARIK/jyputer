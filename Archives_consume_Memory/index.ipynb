{
 "cells": [
  {
   "cell_type": "code",
   "execution_count": 1,
   "metadata": {},
   "outputs": [
    {
     "name": "stderr",
     "output_type": "stream",
     "text": [
      "<>:16: SyntaxWarning: invalid escape sequence '\\S'\n",
      "<>:16: SyntaxWarning: invalid escape sequence '\\S'\n",
      "C:\\Users\\ettar\\AppData\\Local\\Temp\\ipykernel_12584\\2699087502.py:16: SyntaxWarning: invalid escape sequence '\\S'\n",
      "  hostname = 'ZOUHAIR\\SQLEXPRESS'\n",
      "C:\\Users\\ettar\\AppData\\Local\\Temp\\ipykernel_12584\\2699087502.py:16: SyntaxWarning: invalid escape sequence '\\S'\n",
      "  hostname = 'ZOUHAIR\\SQLEXPRESS'\n"
     ]
    },
    {
     "ename": "gaierror",
     "evalue": "[Errno 11001] getaddrinfo failed",
     "output_type": "error",
     "traceback": [
      "\u001b[1;31m---------------------------------------------------------------------------\u001b[0m",
      "\u001b[1;31mgaierror\u001b[0m                                  Traceback (most recent call last)",
      "Cell \u001b[1;32mIn[1], line 25\u001b[0m\n\u001b[0;32m     23\u001b[0m ssh \u001b[38;5;241m=\u001b[39m paramiko\u001b[38;5;241m.\u001b[39mSSHClient()\n\u001b[0;32m     24\u001b[0m ssh\u001b[38;5;241m.\u001b[39mset_missing_host_key_policy(paramiko\u001b[38;5;241m.\u001b[39mAutoAddPolicy())\n\u001b[1;32m---> 25\u001b[0m \u001b[43mssh\u001b[49m\u001b[38;5;241;43m.\u001b[39;49m\u001b[43mconnect\u001b[49m\u001b[43m(\u001b[49m\u001b[43mhostname\u001b[49m\u001b[43m,\u001b[49m\u001b[43m \u001b[49m\u001b[43mport\u001b[49m\u001b[43m,\u001b[49m\u001b[43m \u001b[49m\u001b[43musername\u001b[49m\u001b[43m,\u001b[49m\u001b[43m \u001b[49m\u001b[43mpassword\u001b[49m\u001b[43m)\u001b[49m\n\u001b[0;32m     27\u001b[0m \u001b[38;5;66;03m# Get large files and directories\u001b[39;00m\n\u001b[0;32m     28\u001b[0m files_and_sizes \u001b[38;5;241m=\u001b[39m get_large_files_and_directories(ssh, min_size)\n",
      "File \u001b[1;32mc:\\Users\\ettar\\AppData\\Local\\Programs\\Python\\Python312\\Lib\\site-packages\\paramiko\\client.py:377\u001b[0m, in \u001b[0;36mSSHClient.connect\u001b[1;34m(self, hostname, port, username, password, pkey, key_filename, timeout, allow_agent, look_for_keys, compress, sock, gss_auth, gss_kex, gss_deleg_creds, gss_host, banner_timeout, auth_timeout, channel_timeout, gss_trust_dns, passphrase, disabled_algorithms, transport_factory, auth_strategy)\u001b[0m\n\u001b[0;32m    375\u001b[0m errors \u001b[38;5;241m=\u001b[39m {}\n\u001b[0;32m    376\u001b[0m \u001b[38;5;66;03m# Try multiple possible address families (e.g. IPv4 vs IPv6)\u001b[39;00m\n\u001b[1;32m--> 377\u001b[0m to_try \u001b[38;5;241m=\u001b[39m \u001b[38;5;28;43mlist\u001b[39;49m\u001b[43m(\u001b[49m\u001b[38;5;28;43mself\u001b[39;49m\u001b[38;5;241;43m.\u001b[39;49m\u001b[43m_families_and_addresses\u001b[49m\u001b[43m(\u001b[49m\u001b[43mhostname\u001b[49m\u001b[43m,\u001b[49m\u001b[43m \u001b[49m\u001b[43mport\u001b[49m\u001b[43m)\u001b[49m\u001b[43m)\u001b[49m\n\u001b[0;32m    378\u001b[0m \u001b[38;5;28;01mfor\u001b[39;00m af, addr \u001b[38;5;129;01min\u001b[39;00m to_try:\n\u001b[0;32m    379\u001b[0m     \u001b[38;5;28;01mtry\u001b[39;00m:\n",
      "File \u001b[1;32mc:\\Users\\ettar\\AppData\\Local\\Programs\\Python\\Python312\\Lib\\site-packages\\paramiko\\client.py:202\u001b[0m, in \u001b[0;36mSSHClient._families_and_addresses\u001b[1;34m(self, hostname, port)\u001b[0m\n\u001b[0;32m    194\u001b[0m \u001b[38;5;250m\u001b[39m\u001b[38;5;124;03m\"\"\"\u001b[39;00m\n\u001b[0;32m    195\u001b[0m \u001b[38;5;124;03mYield pairs of address families and addresses to try for connecting.\u001b[39;00m\n\u001b[0;32m    196\u001b[0m \n\u001b[1;32m   (...)\u001b[0m\n\u001b[0;32m    199\u001b[0m \u001b[38;5;124;03m:returns: Yields an iterable of ``(family, address)`` tuples\u001b[39;00m\n\u001b[0;32m    200\u001b[0m \u001b[38;5;124;03m\"\"\"\u001b[39;00m\n\u001b[0;32m    201\u001b[0m guess \u001b[38;5;241m=\u001b[39m \u001b[38;5;28;01mTrue\u001b[39;00m\n\u001b[1;32m--> 202\u001b[0m addrinfos \u001b[38;5;241m=\u001b[39m \u001b[43msocket\u001b[49m\u001b[38;5;241;43m.\u001b[39;49m\u001b[43mgetaddrinfo\u001b[49m\u001b[43m(\u001b[49m\n\u001b[0;32m    203\u001b[0m \u001b[43m    \u001b[49m\u001b[43mhostname\u001b[49m\u001b[43m,\u001b[49m\u001b[43m \u001b[49m\u001b[43mport\u001b[49m\u001b[43m,\u001b[49m\u001b[43m \u001b[49m\u001b[43msocket\u001b[49m\u001b[38;5;241;43m.\u001b[39;49m\u001b[43mAF_UNSPEC\u001b[49m\u001b[43m,\u001b[49m\u001b[43m \u001b[49m\u001b[43msocket\u001b[49m\u001b[38;5;241;43m.\u001b[39;49m\u001b[43mSOCK_STREAM\u001b[49m\n\u001b[0;32m    204\u001b[0m \u001b[43m\u001b[49m\u001b[43m)\u001b[49m\n\u001b[0;32m    205\u001b[0m \u001b[38;5;28;01mfor\u001b[39;00m (family, socktype, proto, canonname, sockaddr) \u001b[38;5;129;01min\u001b[39;00m addrinfos:\n\u001b[0;32m    206\u001b[0m     \u001b[38;5;28;01mif\u001b[39;00m socktype \u001b[38;5;241m==\u001b[39m socket\u001b[38;5;241m.\u001b[39mSOCK_STREAM:\n",
      "File \u001b[1;32mc:\\Users\\ettar\\AppData\\Local\\Programs\\Python\\Python312\\Lib\\socket.py:963\u001b[0m, in \u001b[0;36mgetaddrinfo\u001b[1;34m(host, port, family, type, proto, flags)\u001b[0m\n\u001b[0;32m    960\u001b[0m \u001b[38;5;66;03m# We override this function since we want to translate the numeric family\u001b[39;00m\n\u001b[0;32m    961\u001b[0m \u001b[38;5;66;03m# and socket type values to enum constants.\u001b[39;00m\n\u001b[0;32m    962\u001b[0m addrlist \u001b[38;5;241m=\u001b[39m []\n\u001b[1;32m--> 963\u001b[0m \u001b[38;5;28;01mfor\u001b[39;00m res \u001b[38;5;129;01min\u001b[39;00m \u001b[43m_socket\u001b[49m\u001b[38;5;241;43m.\u001b[39;49m\u001b[43mgetaddrinfo\u001b[49m\u001b[43m(\u001b[49m\u001b[43mhost\u001b[49m\u001b[43m,\u001b[49m\u001b[43m \u001b[49m\u001b[43mport\u001b[49m\u001b[43m,\u001b[49m\u001b[43m \u001b[49m\u001b[43mfamily\u001b[49m\u001b[43m,\u001b[49m\u001b[43m \u001b[49m\u001b[38;5;28;43mtype\u001b[39;49m\u001b[43m,\u001b[49m\u001b[43m \u001b[49m\u001b[43mproto\u001b[49m\u001b[43m,\u001b[49m\u001b[43m \u001b[49m\u001b[43mflags\u001b[49m\u001b[43m)\u001b[49m:\n\u001b[0;32m    964\u001b[0m     af, socktype, proto, canonname, sa \u001b[38;5;241m=\u001b[39m res\n\u001b[0;32m    965\u001b[0m     addrlist\u001b[38;5;241m.\u001b[39mappend((_intenum_converter(af, AddressFamily),\n\u001b[0;32m    966\u001b[0m                      _intenum_converter(socktype, SocketKind),\n\u001b[0;32m    967\u001b[0m                      proto, canonname, sa))\n",
      "\u001b[1;31mgaierror\u001b[0m: [Errno 11001] getaddrinfo failed"
     ]
    }
   ],
   "source": [
    "import paramiko\n",
    "\n",
    "def get_large_files_and_directories(ssh, min_size):\n",
    "    # Find files and directories larger than min_size (in bytes)\n",
    "    command = f\"find / -type f -size +{min_size}c -exec du -b {{}} + 2>/dev/null | sort -nr\"\n",
    "    stdin, stdout, stderr = ssh.exec_command(command)\n",
    "    files_and_sizes = stdout.read().decode().strip().split('\\n')\n",
    "    return files_and_sizes\n",
    "\n",
    "def get_available_memory(ssh):\n",
    "    stdin, stdout, stderr = ssh.exec_command(\"free -b | grep Mem | awk '{print $7}'\")\n",
    "    available_memory = int(stdout.read().strip())\n",
    "    return available_memory\n",
    "\n",
    "# Replace with your server details\n",
    "hostname = 'your_server_ip_or_hostname'  # Use the actual IP address or hostname of the server\n",
    "port = 22\n",
    "username = 'ettarak'\n",
    "password = 'Abcdefg1!'\n",
    "min_size = 100 * 1024 * 1024  # Minimum file size to consider (e.g., 100 MB)\n",
    "\n",
    "# Connect to the server\n",
    "ssh = paramiko.SSHClient()\n",
    "ssh.set_missing_host_key_policy(paramiko.AutoAddPolicy())\n",
    "ssh.connect(hostname, port, username, password)\n",
    "\n",
    "# Get large files and directories\n",
    "files_and_sizes = get_large_files_and_directories(ssh, min_size)\n",
    "total_size_of_archives = sum(int(line.split()[0]) for line in files_and_sizes)\n",
    "\n",
    "# Get available memory\n",
    "available_memory = get_available_memory(ssh)\n",
    "\n",
    "# Close the connection\n",
    "ssh.close()\n",
    "\n",
    "print(f\"Total size of large files and directories: {total_size_of_archives / (1024 ** 3):.2f} GB\")\n",
    "print(f\"Available memory: {available_memory / (1024 ** 3):.2f} GB\")\n",
    "\n",
    "if total_size_of_archives > available_memory:\n",
    "    print(\"The large files and directories consume more memory than available.\")\n",
    "else:\n",
    "    print(\"The large files and directories do not consume more memory than available.\")"
   ]
  }
 ],
 "metadata": {
  "kernelspec": {
   "display_name": "Python 3",
   "language": "python",
   "name": "python3"
  },
  "language_info": {
   "codemirror_mode": {
    "name": "ipython",
    "version": 3
   },
   "file_extension": ".py",
   "mimetype": "text/x-python",
   "name": "python",
   "nbconvert_exporter": "python",
   "pygments_lexer": "ipython3",
   "version": "3.12.0"
  }
 },
 "nbformat": 4,
 "nbformat_minor": 2
}
