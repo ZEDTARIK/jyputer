{
 "cells": [
  {
   "cell_type": "code",
   "execution_count": 24,
   "metadata": {},
   "outputs": [
    {
     "name": "stdout",
     "output_type": "stream",
     "text": [
      "[91, 61, 87]\n"
     ]
    }
   ],
   "source": [
    "grades = [91, 32, 58, 61, 60, 87]\n",
    "\n",
    "# Filter grades above 60 and store them in a new list\n",
    "passing_grades = list(filter(lambda grade: grade > 60, grades))\n",
    "print(passing_grades)\n",
    "\n"
   ]
  },
  {
   "cell_type": "code",
   "execution_count": 25,
   "metadata": {},
   "outputs": [
    {
     "name": "stdout",
     "output_type": "stream",
     "text": [
      "[2, 4, 6, 8, 10]\n"
     ]
    }
   ],
   "source": [
    "def is_even(n):\n",
    "    return n % 2 == 0\n",
    "numbers = [1, 2, 3, 4, 5, 6 , 7, 8 , 9, 10]\n",
    "## even_numbers = list(filter(is_even, numbers))\n",
    "\n",
    "# Using lambda function with list comprehension\n",
    "even_numbers = list(filter(lambda en: en % 2 == 0, numbers))\n",
    "print(even_numbers)"
   ]
  },
  {
   "cell_type": "code",
   "execution_count": 26,
   "metadata": {},
   "outputs": [
    {
     "name": "stdout",
     "output_type": "stream",
     "text": [
      "o o u o u e o e\n"
     ]
    }
   ],
   "source": [
    "voyelles  = \"aeiouy\"\n",
    "chaines = \"Bonjour tout le monde\"\n",
    "\n",
    "def is_voyelle(letter):\n",
    "    return letter.lower() in voyelles\n",
    "contien_voyelle = filter(is_voyelle, chaines)\n",
    "\n",
    "print(\" \".join(contien_voyelle))"
   ]
  },
  {
   "cell_type": "code",
   "execution_count": 27,
   "metadata": {},
   "outputs": [
    {
     "name": "stdout",
     "output_type": "stream",
     "text": [
      "[1, 5, 8]\n"
     ]
    }
   ],
   "source": [
    "nombres = [-3, -2, 0, 1, 5, 8]\n",
    "nombres_positifs = filter(lambda x: x > 0, nombres)\n",
    "print(list(nombres_positifs))  # Sortie : [1, 5, 8]\n"
   ]
  },
  {
   "cell_type": "code",
   "execution_count": 28,
   "metadata": {},
   "outputs": [
    {
     "name": "stdout",
     "output_type": "stream",
     "text": [
      "['Python', 3.14]\n"
     ]
    }
   ],
   "source": [
    "valeurs = [0, \"\", False, \"Python\", None, 3.14]\n",
    "valeurs_truthy = filter(None, valeurs)\n",
    "print(list(valeurs_truthy))  # Sortie : ['Python', 3.14]\n"
   ]
  },
  {
   "cell_type": "code",
   "execution_count": null,
   "metadata": {},
   "outputs": [],
   "source": []
  }
 ],
 "metadata": {
  "kernelspec": {
   "display_name": "Python 3",
   "language": "python",
   "name": "python3"
  },
  "language_info": {
   "codemirror_mode": {
    "name": "ipython",
    "version": 3
   },
   "file_extension": ".py",
   "mimetype": "text/x-python",
   "name": "python",
   "nbconvert_exporter": "python",
   "pygments_lexer": "ipython3",
   "version": "3.12.0"
  }
 },
 "nbformat": 4,
 "nbformat_minor": 2
}
