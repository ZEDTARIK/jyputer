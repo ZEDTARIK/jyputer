{
 "cells": [
  {
   "cell_type": "code",
   "execution_count": 9,
   "metadata": {},
   "outputs": [
    {
     "name": "stdout",
     "output_type": "stream",
     "text": [
      "[1, 4, 9, 16, 25, 36, 49, 64, 81]\n"
     ]
    }
   ],
   "source": [
    "\"\"\"\n",
    "Generate a list of squares of numbers from 1 to 9.\n",
    "\n",
    "Returns:\n",
    "    list: A list of squares of+ numbers from 1 to 9.\n",
    "\n",
    "Example:\n",
    "    >>> square_list = [x**2 for x in range(1, 10)]\n",
    "    >>> print(square_list)\n",
    "    [1, 4, 9, 16, 25, 36, 49, 64, 81]\n",
    "\"\"\"\n",
    "square_list = [x**2 for x in range(1, 10)]\n",
    "\n",
    "print(square_list)"
   ]
  },
  {
   "cell_type": "code",
   "execution_count": 8,
   "metadata": {},
   "outputs": [
    {
     "name": "stdout",
     "output_type": "stream",
     "text": [
      "<generator object <genexpr> at 0x000002405CBD28E0>\n"
     ]
    }
   ],
   "source": [
    "square_generator= (x**2 for x in range(1, 10))\n",
    "\n",
    "print(square_generator)"
   ]
  }
 ],
 "metadata": {
  "kernelspec": {
   "display_name": "Python 3",
   "language": "python",
   "name": "python3"
  },
  "language_info": {
   "codemirror_mode": {
    "name": "ipython",
    "version": 3
   },
   "file_extension": ".py",
   "mimetype": "text/x-python",
   "name": "python",
   "nbconvert_exporter": "python",
   "pygments_lexer": "ipython3",
   "version": "3.12.0"
  }
 },
 "nbformat": 4,
 "nbformat_minor": 2
}
