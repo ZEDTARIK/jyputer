{
 "cells": [
  {
   "cell_type": "markdown",
   "metadata": {},
   "source": [
    "## Visualizing The Hisotry of Nobel Prize Winners"
   ]
  },
  {
   "cell_type": "code",
   "execution_count": 18,
   "metadata": {},
   "outputs": [],
   "source": [
    "import pandas as pd\n",
    "\n",
    "nobel = pd.read_csv('data/nobel.csv')\n",
    "\n",
    "# display Structure file  (fileds)\n",
    "#nobel.info()\n"
   ]
  },
  {
   "cell_type": "code",
   "execution_count": 19,
   "metadata": {},
   "outputs": [
    {
     "name": "stdout",
     "output_type": "stream",
     "text": [
      "\n",
      " The gender with the most Nobel laureates is : Male\n",
      " The most common birth country of Nobel laureates is : United States of America\n"
     ]
    }
   ],
   "source": [
    "#Store and display the most commonly awarded gender and birth country in requested variables\n",
    "\n",
    "top_gender = nobel['sex'].value_counts().index[0]\n",
    "top_country = nobel['birth_country'].value_counts().index[0]\n",
    "\n",
    "print(\"\\n The gender with the most Nobel laureates is :\", top_gender)\n",
    "print(\" The most common birth country of Nobel laureates is :\", top_country)"
   ]
  },
  {
   "cell_type": "code",
   "execution_count": 20,
   "metadata": {},
   "outputs": [
    {
     "name": "stdout",
     "output_type": "stream",
     "text": [
      "    decade  usa_born_winner\n",
      "0     1900         0.017544\n",
      "1     1910         0.075000\n",
      "2     1920         0.074074\n",
      "3     1930         0.250000\n",
      "4     1940         0.302326\n",
      "5     1950         0.291667\n",
      "6     1960         0.265823\n",
      "7     1970         0.317308\n",
      "8     1980         0.319588\n",
      "9     1990         0.403846\n",
      "10    2000         0.422764\n",
      "11    2010         0.314050\n",
      "12    2020         0.360000\n"
     ]
    }
   ],
   "source": [
    "# Calculate the proportion of USA born winners per decade\n",
    "import numpy as np\n",
    "\n",
    "nobel['usa_born_winner'] = nobel['birth_country'] == 'United States of America'\n",
    "nobel['decade'] = (np.floor(nobel['year'] / 10) * 10).astype(int)\n",
    "prop_usa_winners = nobel.groupby('decade', as_index=False)['usa_born_winner'].mean()\n",
    "\n",
    "print(prop_usa_winners)"
   ]
  }
 ],
 "metadata": {
  "kernelspec": {
   "display_name": "Python 3",
   "language": "python",
   "name": "python3"
  },
  "language_info": {
   "codemirror_mode": {
    "name": "ipython",
    "version": 3
   },
   "file_extension": ".py",
   "mimetype": "text/x-python",
   "name": "python",
   "nbconvert_exporter": "python",
   "pygments_lexer": "ipython3",
   "version": "3.12.0"
  }
 },
 "nbformat": 4,
 "nbformat_minor": 2
}
